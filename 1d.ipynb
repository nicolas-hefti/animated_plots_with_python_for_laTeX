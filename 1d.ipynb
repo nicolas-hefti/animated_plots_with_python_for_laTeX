{
 "cells": [
  {
   "attachments": {},
   "cell_type": "markdown",
   "metadata": {},
   "source": [
    "# 1. 1D Animated Plots"
   ]
  },
  {
   "attachments": {},
   "cell_type": "markdown",
   "metadata": {},
   "source": [
    "The idea is to generate animated plots and evtually include them in a [$\\LaTeX$](https://www.latex-project.org/) file. To generate a simple 1D animated plot there are essentially two ways: \n",
    "1. Directly generate the whole animated plot witn Python and save it as a video fomrat, e.g. GIF or MP4; \n",
    "2. Generate a series of plots with python and save them as image format, e.g. PGN, PGF or SVG. \n",
    "\n",
    "The advantage of the first method is that it is a lot faster and probably easier to adjust. Moreover, obviously, you end up with a video that can be played in any reasonable video player. However, the major disadvantage is that I haven't found a good way to implement a GIF or MP4 video into LaTeX. There used to be a nice method using the package [media9](https://ctan.org/pkg/media9?lang=en) which relied on Flash. However since Adobe has ceased support of Flash, see e.g. [here](https://www.overleaf.com/learn/latex/Questions/How_can_I_embed_a_video_in_my_PDF_using_LaTeX%3F), you wont be able to play the video in Adobe Reader. It might still work if you open the file in another reader which supports Flash, I wouldn't know. \n",
    "\n",
    "The second method resolves this major drawback. The video will be played in Adobe Reader as desired as LaTeX creates the animation which does not rely on Flash. Apart from that, another major advantage of the second method is, that it allows you a high degree of freedom. E.g. it is possible to let LaTeX render the text insider your figure which will then be consistent with the rest of your text and, furthermore, also searchable. I'll elaborate that later in greater detail, see in Secion 1.4. For the time being, I'll start with explaining both methods for 1D plots.  "
   ]
  },
  {
   "attachments": {},
   "cell_type": "markdown",
   "metadata": {},
   "source": [
    "## 1.1. Create 1D Animated Plot in Video Format"
   ]
  },
  {
   "attachments": {},
   "cell_type": "markdown",
   "metadata": {},
   "source": [
    "In order to implement the first method, all python modules we need are [Numpy](https://numpy.org/) and [Matplotlib](https://matplotlib.org/). "
   ]
  },
  {
   "cell_type": "code",
   "execution_count": 31,
   "metadata": {},
   "outputs": [
    {
     "data": {
      "text/plain": [
       "<contextlib.ExitStack at 0x170f68d3ee0>"
      ]
     },
     "execution_count": 31,
     "metadata": {},
     "output_type": "execute_result"
    }
   ],
   "source": [
    "import numpy as np\n",
    "import matplotlib.pyplot as plt\n",
    "plt.ioff()      #stops jupyter to display figures if not explicitely called"
   ]
  },
  {
   "attachments": {},
   "cell_type": "markdown",
   "metadata": {},
   "source": [
    "As an example of this method, I'll draw the sine and cosine curve in the interval $[0, 10\\pi]$. "
   ]
  },
  {
   "cell_type": "code",
   "execution_count": 32,
   "metadata": {},
   "outputs": [],
   "source": [
    "frames=500\n",
    "x=np.linspace(0, 10*np.pi, frames)\n",
    "fig, ax =plt.subplots()     # create empty figure"
   ]
  },
  {
   "attachments": {},
   "cell_type": "markdown",
   "metadata": {},
   "source": [
    "Now, we have to define a function which plots each frame of the plot. "
   ]
  },
  {
   "cell_type": "code",
   "execution_count": 33,
   "metadata": {},
   "outputs": [],
   "source": [
    "\n",
    "    xi=x[i:i+2]\n",
    "    ax.plot(xi, np.sin(xi), color='r')\n",
    "    ax.plot(xi, np.cos(xi), color='b')\n",
    "    ax.set_xlim(0, 10*np.pi)        #displayed window of plot should be fixed\n",
    "    ax.set_ylim(-1, 1)\n",
    "def animation(i): \n",
    "    ax.set_title(r'$\\sin(x),\\cos(x),\\ x \\in [0, 2\\pi]$')     #print title in LaTeX style"
   ]
  },
  {
   "attachments": {},
   "cell_type": "markdown",
   "metadata": {},
   "source": [
    "Be sure to pass raw strings or to escape the backslash. To actually animate this plot we use the class [FuncAnimation](https://matplotlib.org/stable/api/_as_gen/matplotlib.animation.FuncAnimation.html) from Matplotlib. "
   ]
  },
  {
   "cell_type": "code",
   "execution_count": 34,
   "metadata": {},
   "outputs": [],
   "source": [
    "from matplotlib.animation import FuncAnimation\n",
    "\n",
    "anim=FuncAnimation(fig, animation, frames=frames, interval=100, repeat=True)\n",
    "\n",
    "anim.save(r'figures/sine_cosine_animated.gif')     #save as mp4 is also possible"
   ]
  },
  {
   "attachments": {},
   "cell_type": "markdown",
   "metadata": {},
   "source": [
    "Some important arguments to be specified are: *frames* determines how often the function animation is called, *interval* detrmines how long the pause between the next call of animation is in miliseconds and *repeat* which, if set to *True*, restarts the animation once it has finished for all eternity. If done correctly, the result should look like this: \n",
    "![Sine and cosine](sine_cosine_animated.gif)"
   ]
  },
  {
   "attachments": {},
   "cell_type": "markdown",
   "metadata": {},
   "source": [
    "## 1.2. Create 1D Animated Plots as Series of Images (Not Recommended)"
   ]
  },
  {
   "attachments": {},
   "cell_type": "markdown",
   "metadata": {},
   "source": [
    "This methods uses more basic and less fancy tools. We only create a certain number of pictures. This time the goal is to not to animate the sine and cosine curves, but rather dots moving on the since and cosine curves over the interval $[0, 10\\pi]$, respectively. Since the output will be quite large, I'll print the moving dots not at every point on the curves."
   ]
  },
  {
   "cell_type": "code",
   "execution_count": 35,
   "metadata": {},
   "outputs": [],
   "source": [
    "frames=50\n",
    "x1=np.linspace(0, 10*np.pi, 500)\n",
    "x2=np.linspace(0, 10*np.pi, frames)\n",
    "fig, ax =plt.subplots()"
   ]
  },
  {
   "attachments": {},
   "cell_type": "markdown",
   "metadata": {},
   "source": [
    "Now, we create our series of images. To avoid chaos (there're going to be 50 images) we save them in a seperate subfolder. Make sure that the name of each picture differs by some number, otherwise it will just overwrite the old one. "
   ]
  },
  {
   "cell_type": "code",
   "execution_count": 37,
   "metadata": {},
   "outputs": [],
   "source": [
    "for i in range(frames): \n",
    "    ax.clear()      #clear dots from step before\n",
    "    ax.plot(x1, np.sin(x1), color='r')      #plot sine curve\n",
    "    ax.plot(x1, np.cos(x1), color='b')      #plot cosine curve\n",
    "    ax.set_title(r'$\\sin(x),\\ \\cos(x),\\ x \\in [0, 2\\pi]$') \n",
    "    ax.plot(x2[i], np.sin(x2[i]), marker='o', markerfacecolor='r', markeredgecolor='black', markersize=10)        #plot the dot\n",
    "    ax.plot(x2[i], np.cos(x2[i]), marker='o', markerfacecolor='b', markeredgecolor='black', markersize=10)        #plot the dot\n",
    "    fig.savefig(rf'figures/sine_cosine_png/im-{i}.png', dpi=500)       #names  of images are 'im-0.png' - 'im_49-png'"
   ]
  },
  {
   "attachments": {},
   "cell_type": "markdown",
   "metadata": {},
   "source": [
    "## 1.2. Animate png Images in LaTex \n",
    "\n",
    "To animate a series of pictures in LaTeX, we use the usepackage [animate](https://ctan.org/pkg/animate?lang=en). For demonstration, I will animate the the pictures of the moving dots on the sine and cosine cruves from before. An (almost) minimal code-example, saved as *sine_cosine_png.tex* looks like this: "
   ]
  },
  {
   "attachments": {},
   "cell_type": "raw",
   "metadata": {},
   "source": [
    "\\documentclass{amsart}\n",
    "\n",
    "\\usepackage{animate}\n",
    "\n",
    "\\begin{document}\n",
    "This is a plot of $\\sin(x)$ and $\\cos(x)$ for $x \\in [0, 10\\pi]$. \n",
    "\\begin{figure}\n",
    "\\centering\n",
    " \\begin{animateinline}[loop, autoplay]{5}\n",
    "  \\multiframe{50}{i=0+1}{\\includegraphics{figures/sine_cosine_png/im-\\i.png}}\n",
    " \\end{animateinline}\n",
    "\\end{figure}\n",
    "\\end{document}"
   ]
  },
  {
   "attachments": {},
   "cell_type": "markdown",
   "metadata": {},
   "source": [
    "In the brackets of the command *\\begin{animateinline}[]* you have to oppurtunity to pass general options like *loop* which ensures that the animation starts again once finished, *autoplay* which plays the animation as soon as you have reached the page on which the animation is located and *control* which adds an interface with buttons like play, fast forward, fast, backward, etc. In the first braces you can pass the frame rate, i.e. how many frames per second should be displayed. \n",
    "\n",
    "The first braces of the command *\\multiframe* contain the total number of frames. In the second braces you specify a variable for looping trough the image names (I chose *i* in this case), followed by an $=$ sign and the starting point of the loop, a $+$ sign and the increment, i.e. the syntax of the second braces folow the scheme \n",
    "$$<variable>=<start>+<increment>. $$\n",
    "The third braces contain a command for importing images, note that the numbers in the filename are replaced by *\\i*, i.e. we call call the variable *i*. "
   ]
  },
  {
   "attachments": {},
   "cell_type": "markdown",
   "metadata": {},
   "source": [
    "I recomment to open the generated PDF file in Adobe Acrobat Reader DC as you need a reader which supports animations. If done correctly, the PDF should look like this: \n",
    "[Sine and cosine](sine_cosine_png.pdf). The animated plot alone looks like this: \n",
    "![Sine and cosine](sine_cosine_png.gif)"
   ]
  },
  {
   "attachments": {},
   "cell_type": "markdown",
   "metadata": {},
   "source": [
    "Let me draw the focus onto some drawbacks of this method: \n",
    "1. The pdf file gets really big (18 mb in my case), despite the fact that we only used 50 pictures in a, at best, mediocore resolution (only 500 dpi). This is in particular a problem if you want to send the file via e-mail where the limit for attachment files is often 5 mb; \n",
    "2. Though the title of the figure is written in LaTeX style, it is not consistent with the style of the rest of the text. Of course, it would be possible to manually align the text styles in either python or LaTeX, but this is neither pythoniac nor practical. Just imagine you hand in a perfectly manually aligned file to a journal for publishing and they use their own template for formatting and nothing will be aligned anymore; \n",
    "3. The text in the figure is not searchable (just type ctrl+f and search for 'sin' and their will only be one match instead of the desired two). \n",
    "\n",
    "Fortunately, all these dproblems can be rectified at one by simply using another format - the PGF format. "
   ]
  },
  {
   "attachments": {},
   "cell_type": "markdown",
   "metadata": {},
   "source": [
    "## 1.4. The PGF Format\n",
    "\n",
    "The [PGF format](https://en.wikipedia.org/wiki/Progressive_Graphics_File) makes it possible to let LaTeX directly render the text in your figures. So we go to the process of above before, but instead of saving the images as PNG, we save them as PGF. As the files get smaller, we can make more frames. "
   ]
  },
  {
   "cell_type": "code",
   "execution_count": 40,
   "metadata": {},
   "outputs": [
    {
     "name": "stderr",
     "output_type": "stream",
     "text": [
      "C:\\Users\\User\\AppData\\Local\\Temp\\ipykernel_17760\\157296426.py:16: UserWarning: FixedFormatter should only be used together with FixedLocator\n",
      "  ax.set_yticklabels(['', '$-1$', '$-0.75$', '$-0.5$', '$-0.25$', '$0$', '$0.25$', '$0.5$', '$0.75$', '$1$', ''])\n",
      "C:\\Users\\User\\AppData\\Local\\Temp\\ipykernel_17760\\157296426.py:17: UserWarning: FixedFormatter should only be used together with FixedLocator\n",
      "  ax.set_xticklabels(['', '0', '5', '10', '15', '20', '25', '30',''])\n"
     ]
    }
   ],
   "source": [
    "frames=200\n",
    "x1=np.linspace(0, 10*np.pi, 500)\n",
    "x2=np.linspace(0, 10*np.pi, frames)\n",
    "\n",
    "fig, ax =plt.subplots()\n",
    "for i in range(frames): \n",
    "    ax.clear()      \n",
    "    ax.plot(x1, np.sin(x1), color='r')\n",
    "    ax.plot(x1, np.cos(x1), color='b')\n",
    "    ax.set_title(r'$\\sin(x),\\ \\cos(x),\\ x \\in [0, 2\\pi]$') \n",
    "    ax.plot(x2[i], np.sin(x2[i]), marker='o', markerfacecolor='r', markeredgecolor='black', markersize=10)   \n",
    "    ax.plot(x2[i], np.cos(x2[i]), marker='o', markerfacecolor='b', markeredgecolor='black', markersize=10)  \n",
    "    #If you would like the labels of the ticks renderd in LaTeX too, you need to pass them in LaTeX form. \n",
    "    #Notice the empty string at the beginning and the end, this is necessesary you don't set ylim and xlim. \n",
    "    #I assume Matplotlib creates a thick at the beginning and the end which is not displayed. \n",
    "    ax.set_yticklabels(['', '$-1$', '$-0.75$', '$-0.5$', '$-0.25$', '$0$', '$0.25$', '$0.5$', '$0.75$', '$1$', ''])\n",
    "    ax.set_xticklabels(['', '0', '5', '10', '15', '20', '25', '30',''])\n",
    "    fig.savefig(rf'figures/sine_cosine_pgf/im-{i}.pgf')"
   ]
  },
  {
   "attachments": {},
   "cell_type": "markdown",
   "metadata": {},
   "source": [
    "## 1.5. Animate PGF Images in LaTeX\n",
    "\n",
    "To import PGF files into LaTeX we need the LaTeX package [pgfplots](https://ctan.org/pkg/pgfplots?lang=en) to read PGF files. However, the LaTeX command *\\\\includegraphics* still does not accept PGF files. An alternative would be to use the LaTeX command *\\\\input*. However, I recommend using the package [import](https://ctan.org/pkg/import?lang=en) and the command *\\\\import*. In the particular case here, this is not necessary, though it will be in more complicated cases, for more on that see Chapter 2. An (almost) minimal LaTeX code-example looks as follows: "
   ]
  },
  {
   "attachments": {},
   "cell_type": "raw",
   "metadata": {},
   "source": [
    "\\documentclass{amsart}\n",
    "\n",
    "\\usepackage{animate}\n",
    "\\usepackage{pgfplots}\n",
    "\\usepackage{import}\n",
    "\n",
    "\\begin{document}\n",
    "This is a plot of $\\sin(x)$ and $\\cos(x)$ for $x \\in [0, 10\\pi]$. \n",
    "\\begin{figure}\n",
    "\\centering\n",
    " \\begin{animateinline}[loop, autoplay]{8}\n",
    "  \\multiframe{200}{i=0+1}{\\import{figures/sine_cosine_pgf}{im-\\i.pgf}}\n",
    " \\end{animateinline}\n",
    "\\end{figure}\n",
    "\\end{document}"
   ]
  },
  {
   "attachments": {},
   "cell_type": "markdown",
   "metadata": {},
   "source": [
    "If done correcrtly, the PDF should look like this: \n",
    "[Sine and cosine](sine_cosine_pgf.pdf) **Pointer:** Open the pdf in a reader which supports animations. The animated plot alone looks like this: \n",
    "![Sine and cosine](sine_cosine_pgf.gif)"
   ]
  },
  {
   "attachments": {},
   "cell_type": "markdown",
   "metadata": {},
   "source": [
    "You can convince yourself that all the problems from above are resolved. Espeshially, the size of this PDF file is only a fraction from that one before - even though we quadrupled the frames. Moreover, unlike PNG, PGF also employs loosless data compression. Meaning that you can zoom into the image and you never see pixels. "
   ]
  },
  {
   "attachments": {},
   "cell_type": "markdown",
   "metadata": {},
   "source": [
    "## 1.6. Use LaTeX Packages in Figures\n",
    "\n",
    "If you play with the code from above, you'll notice that only commands from standard LaTeX work. As soon as you try to insert a code from, say, [amsmath](https://ctan.org/pkg/amsmath?lang=en), you'll get an error. I'll find this particularly annoying since the command *\\text* is from from amsmath. As soon as you try to write text in your title you must therefore write it putside the LaTeX command (outside the dollar signs *$*). But this has the consequence that LaTeX will not render this text and it will not align with the rest of the text in your PDF file. To overcome this issue, we have to tell python to use the amsart package. In this example I visualize the (complex) roots of the Polynomial \n",
    "$$ P_\\gamma(z):=z^2-4z+4\\gamma, \\quad z \\in \\mathbb{C}, $$\n",
    "where $\\gamma$ is some parameter within the interval $[0, 2]$. "
   ]
  },
  {
   "cell_type": "code",
   "execution_count": 41,
   "metadata": {},
   "outputs": [],
   "source": [
    "import matplotlib as mpl\n",
    "\n",
    "mpl.use('pgf')\n",
    "\n",
    "pgf_latex = {                      #setup parameters of Matplotlib to use LaTeX for output\n",
    "    \"pgf.texsystem\": \"pdflatex\",        \n",
    "    \"text.usetex\": True,                #LaTeX will write all text\n",
    "    \"font.family\": \"serif\",\n",
    "    \"font.serif\": [],                    \n",
    "    \"font.sans-serif\": [],              \n",
    "    \"font.monospace\": [],\n",
    "    \"axes.labelsize\": 10,               \n",
    "    \"font.size\": 10,\n",
    "    \"legend.fontsize\": 8,               \n",
    "    \"xtick.labelsize\": 8,               \n",
    "    \"ytick.labelsize\": 8,\n",
    "    \"pgf.preamble\": \"\\n\".join([         #plots will use this preamble\n",
    "        r\"\\usepackage{amsmath}\",\n",
    "        ])\n",
    "    }\n",
    "mpl.rcParams.update(pgf_latex)"
   ]
  },
  {
   "attachments": {},
   "cell_type": "markdown",
   "metadata": {},
   "source": [
    "Of course, the roots of $P_\\gamma$ are \n",
    "$$b\\pm\\sqrt{4-4\\gamma}$$\n",
    "if 16-16\\gamma\\geq 0$ and \n",
    "$$b\\pm\\mathrm{i}\\sqrt{4\\gamma-4}$$\n",
    "otherwise. "
   ]
  },
  {
   "cell_type": "code",
   "execution_count": 42,
   "metadata": {},
   "outputs": [
    {
     "name": "stderr",
     "output_type": "stream",
     "text": [
      "C:\\Users\\User\\AppData\\Local\\Temp\\ipykernel_17760\\2683981080.py:20: UserWarning: FixedFormatter should only be used together with FixedLocator\n",
      "  ax.set_yticklabels(['$-4$', '$-3$', '$-2$', '$-1',  '$0$', '$1$', '$2$', '$3$', '$4$'])\n",
      "C:\\Users\\User\\AppData\\Local\\Temp\\ipykernel_17760\\2683981080.py:21: UserWarning: FixedFormatter should only be used together with FixedLocator\n",
      "  ax.set_xticklabels(['$0$', '$0.5$', '$1$', '$1.5$', '$2$', '$2.5$', '$3$', '$3.5$', '$4$'])\n"
     ]
    }
   ],
   "source": [
    "gamma=np.linspace(0, 2, 200)\n",
    "fig, ax =plt.subplots()\n",
    "for i in range(len(gamma)): \n",
    "    ax.clear()      #clear dots from step before\n",
    "    ax.set_xlim(0, 4)\n",
    "    ax.set_ylim(-2, 2)\n",
    "    if 16-16*gamma[i]>=0: \n",
    "        x1=.5*(4+np.sqrt(16-16*gamma[i]))\n",
    "        x2=.5*(4-np.sqrt(16-16*gamma[i]))\n",
    "        ax.plot(x1, 0, marker='o', color='blue', markersize=20)\n",
    "        ax.plot(x2, 0, marker='o', color='red', markersize=20)\n",
    "    else: \n",
    "        y=.5*np.sqrt(16*gamma[i]-16)\n",
    "        ax.plot(2, y, marker='o', color='blue', markersize=20)\n",
    "        ax.plot(2, -y, marker='o', color='red', markersize=20)\n",
    "    ax.set_title(rf'$\\text{{Roots of}}\\ P_\\gamma(z):=z^2-4z+4\\gamma$\\ \\text{{for}}\\ $\\gamma={gamma[i]:.2f}') \n",
    "    #If you would like the labels of the ticks renderd in LaTeX too, you need to pass them in LaTeX form. \n",
    "    #Notice the empty string at the beginning and the end, this is necessesary you don't set ylim and xlim. \n",
    "    #I assume Matplotlib creates a thick at the beginning and the end that is not displayed. \n",
    "    ax.set_yticklabels(['$-4$', '$-3$', '$-2$', '$-1',  '$0$', '$1$', '$2$', '$3$', '$4$'])\n",
    "    ax.set_xticklabels(['$0$', '$0.5$', '$1$', '$1.5$', '$2$', '$2.5$', '$3$', '$3.5$', '$4$'])\n",
    "    fig.savefig(rf'figures/roots/im-{i}.pgf')"
   ]
  },
  {
   "attachments": {},
   "cell_type": "markdown",
   "metadata": {},
   "source": [
    "The LaTeX code for implementing this animated graphic is similar to the one before: "
   ]
  },
  {
   "attachments": {},
   "cell_type": "raw",
   "metadata": {},
   "source": [
    "\\documentclass{amsart}\n",
    "\n",
    "\\usepackage{animate}\n",
    "\\usepackage{pgfplots}\n",
    "\\usepackage{import}\n",
    "\n",
    "\\begin{document}\n",
    "This is a plot of the roots of the polynomial $P_\\gamma(z):=z^2-4z+4\\gamma$, $z \\in \\mathbb{C}$, for $\\gamma \\in [0, 2]$. \n",
    "\\begin{figure}\n",
    "\\centering\n",
    "\\begin{animateinline}[loop, autoplay]{12}\n",
    "\\multiframe{200}{i=0+1}{\\import{figures/roots}{im-\\i.pgf}}\n",
    " \\end{animateinline}\n",
    "\\end{figure}\n",
    "\\end{document}"
   ]
  },
  {
   "attachments": {},
   "cell_type": "markdown",
   "metadata": {},
   "source": [
    "You can convince yourself that the text in the title of the figure is aligned with the rest of the text in the PDF file. \n",
    "[Roots of $z^2-4z+4\\gamma$](roots.pdf) **Pointer:** Open the pdf in a reader which supports animations. \n",
    "The animated plot alone looks like this: \n",
    "![Roots of $z^2-4z+4\\gamma$](roots.gif)"
   ]
  },
  {
   "attachments": {},
   "cell_type": "markdown",
   "metadata": {},
   "source": [
    "<embed src=\"/roots.pdf\" type=\"application/pdf\">"
   ]
  }
 ],
 "metadata": {
  "kernelspec": {
   "display_name": "base",
   "language": "python",
   "name": "python3"
  },
  "language_info": {
   "codemirror_mode": {
    "name": "ipython",
    "version": 3
   },
   "file_extension": ".py",
   "mimetype": "text/x-python",
   "name": "python",
   "nbconvert_exporter": "python",
   "pygments_lexer": "ipython3",
   "version": "3.10.9"
  },
  "orig_nbformat": 4
 },
 "nbformat": 4,
 "nbformat_minor": 2
}
